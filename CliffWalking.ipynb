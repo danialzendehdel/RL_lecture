{
 "cells": [
  {
   "cell_type": "code",
   "id": "initial_id",
   "metadata": {
    "collapsed": true,
    "ExecuteTime": {
     "end_time": "2024-06-11T11:22:00.818210Z",
     "start_time": "2024-06-11T11:22:00.814090Z"
    }
   },
   "source": [
    "# import libraries \n",
    "import numpy as np\n",
    "import matplotlib.pyplot as plt\n",
    "import gymnasium as gym \n",
    "import random"
   ],
   "outputs": [],
   "execution_count": 11
  },
  {
   "metadata": {},
   "cell_type": "markdown",
   "source": [
    "# Cliff Walking problem \n",
    "\n",
    "![Cliff Walking](cliff_walking.png)\n",
    "\n"
   ],
   "id": "b6e926f8031f42ff"
  },
  {
   "metadata": {},
   "cell_type": "markdown",
   "source": [
    "# Set Environment \n",
    "\n",
    "The action shape is (1,) in the range {0, 3} indicating which direction to move the player.\n",
    "\n",
    "0: Move up\n",
    "\n",
    "1: Move right\n",
    "\n",
    "2: Move down\n",
    "\n",
    "3: Move leftThe action shape is (1,) in the range {0, 3} indicating which direction to move the player.\n",
    "\n"
   ],
   "id": "ed2123a2cff02e43"
  },
  {
   "metadata": {
    "ExecuteTime": {
     "end_time": "2024-06-11T11:22:03.385980Z",
     "start_time": "2024-06-11T11:22:03.373292Z"
    }
   },
   "cell_type": "code",
   "source": "env = gym.make('CliffWalking-v0', render_mode='human')",
   "id": "f9628823eafa43bc",
   "outputs": [],
   "execution_count": 12
  },
  {
   "metadata": {
    "ExecuteTime": {
     "end_time": "2024-06-11T11:21:33.014957Z",
     "start_time": "2024-06-11T11:21:33.010498Z"
    }
   },
   "cell_type": "code",
   "source": "print(f'observation space:{env.observation_space}\\naction space:{env.action_space}')",
   "id": "d7a6d3f8dd5ee2d2",
   "outputs": [
    {
     "name": "stdout",
     "output_type": "stream",
     "text": [
      "observation space:Discrete(48)\n",
      "action space:Discrete(4)\n"
     ]
    }
   ],
   "execution_count": 8
  },
  {
   "metadata": {
    "ExecuteTime": {
     "end_time": "2024-06-11T11:21:39.844580Z",
     "start_time": "2024-06-11T11:21:38.543558Z"
    }
   },
   "cell_type": "code",
   "source": [
    "observation, info = env.reset() # return initial state\n",
    "print(f'observation:{observation}\\ninfo:{info}') # deterministic environments"
   ],
   "id": "5674f524b3a590bd",
   "outputs": [
    {
     "name": "stdout",
     "output_type": "stream",
     "text": [
      "observation:36\n",
      "info:{'prob': 1}\n"
     ]
    }
   ],
   "execution_count": 9
  },
  {
   "metadata": {},
   "cell_type": "markdown",
   "source": [
    "# dummy policy\n",
    "\n",
    "Components:\n",
    "\n",
    "    - observation: New state of the environment.\n",
    "    - reward: Immediate reward for the action.\n",
    "    - terminated: Indicates if a terminal state is reached.\n",
    "    - truncated: Indicates if the episode ended due to truncation.\n",
    "    - info: Additional information about the state.\n"
   ],
   "id": "aa9d4f7358760958"
  },
  {
   "metadata": {
    "ExecuteTime": {
     "end_time": "2024-06-11T11:21:57.460430Z",
     "start_time": "2024-06-11T11:21:46.944897Z"
    }
   },
   "cell_type": "code",
   "source": [
    "for _ in range(100):\n",
    "    action = env.action_space.sample()\n",
    "    observation, reward, terminated, truncated, info = env.step(action)\n",
    "\n",
    "    \n",
    "    print(f'observation:{observation}\\nreward:{reward}\\nterminated:{terminated}\\ntruncated:{truncated}\\ninfo:{info}')\n",
    "    if terminated or truncated:\n",
    "        observation, info = env.reset()\n",
    "        \n",
    "env.close()\n",
    "        "
   ],
   "id": "70404980c4fb1d2",
   "outputs": [
    {
     "name": "stdout",
     "output_type": "stream",
     "text": [
      "observation:36\n",
      "reward:-1\n",
      "terminated:False\n",
      "truncated:False\n",
      "info:{'prob': 1.0}\n",
      "observation:36\n",
      "reward:-1\n",
      "terminated:False\n",
      "truncated:False\n",
      "info:{'prob': 1.0}\n",
      "observation:24\n",
      "reward:-1\n",
      "terminated:False\n",
      "truncated:False\n",
      "info:{'prob': 1.0}\n",
      "observation:36\n",
      "reward:-1\n",
      "terminated:False\n",
      "truncated:False\n",
      "info:{'prob': 1.0}\n",
      "observation:36\n",
      "reward:-100\n",
      "terminated:False\n",
      "truncated:False\n",
      "info:{'prob': 1.0}\n",
      "observation:24\n",
      "reward:-1\n",
      "terminated:False\n",
      "truncated:False\n",
      "info:{'prob': 1.0}\n",
      "observation:36\n",
      "reward:-1\n",
      "terminated:False\n",
      "truncated:False\n",
      "info:{'prob': 1.0}\n",
      "observation:24\n",
      "reward:-1\n",
      "terminated:False\n",
      "truncated:False\n",
      "info:{'prob': 1.0}\n",
      "observation:12\n",
      "reward:-1\n",
      "terminated:False\n",
      "truncated:False\n",
      "info:{'prob': 1.0}\n",
      "observation:24\n",
      "reward:-1\n",
      "terminated:False\n",
      "truncated:False\n",
      "info:{'prob': 1.0}\n",
      "observation:12\n",
      "reward:-1\n",
      "terminated:False\n",
      "truncated:False\n",
      "info:{'prob': 1.0}\n",
      "observation:0\n",
      "reward:-1\n",
      "terminated:False\n",
      "truncated:False\n",
      "info:{'prob': 1.0}\n",
      "observation:0\n",
      "reward:-1\n",
      "terminated:False\n",
      "truncated:False\n",
      "info:{'prob': 1.0}\n",
      "observation:12\n",
      "reward:-1\n",
      "terminated:False\n",
      "truncated:False\n",
      "info:{'prob': 1.0}\n",
      "observation:0\n",
      "reward:-1\n",
      "terminated:False\n",
      "truncated:False\n",
      "info:{'prob': 1.0}\n",
      "observation:0\n",
      "reward:-1\n",
      "terminated:False\n",
      "truncated:False\n",
      "info:{'prob': 1.0}\n",
      "observation:1\n",
      "reward:-1\n",
      "terminated:False\n",
      "truncated:False\n",
      "info:{'prob': 1.0}\n",
      "observation:1\n",
      "reward:-1\n",
      "terminated:False\n",
      "truncated:False\n",
      "info:{'prob': 1.0}\n",
      "observation:1\n",
      "reward:-1\n",
      "terminated:False\n",
      "truncated:False\n",
      "info:{'prob': 1.0}\n",
      "observation:1\n",
      "reward:-1\n",
      "terminated:False\n",
      "truncated:False\n",
      "info:{'prob': 1.0}\n",
      "observation:2\n",
      "reward:-1\n",
      "terminated:False\n",
      "truncated:False\n",
      "info:{'prob': 1.0}\n",
      "observation:2\n",
      "reward:-1\n",
      "terminated:False\n",
      "truncated:False\n",
      "info:{'prob': 1.0}\n",
      "observation:1\n",
      "reward:-1\n",
      "terminated:False\n",
      "truncated:False\n",
      "info:{'prob': 1.0}\n",
      "observation:2\n",
      "reward:-1\n",
      "terminated:False\n",
      "truncated:False\n",
      "info:{'prob': 1.0}\n",
      "observation:14\n",
      "reward:-1\n",
      "terminated:False\n",
      "truncated:False\n",
      "info:{'prob': 1.0}\n",
      "observation:26\n",
      "reward:-1\n",
      "terminated:False\n",
      "truncated:False\n",
      "info:{'prob': 1.0}\n",
      "observation:36\n",
      "reward:-100\n",
      "terminated:False\n",
      "truncated:False\n",
      "info:{'prob': 1.0}\n",
      "observation:36\n",
      "reward:-1\n",
      "terminated:False\n",
      "truncated:False\n",
      "info:{'prob': 1.0}\n",
      "observation:36\n",
      "reward:-100\n",
      "terminated:False\n",
      "truncated:False\n",
      "info:{'prob': 1.0}\n",
      "observation:36\n",
      "reward:-1\n",
      "terminated:False\n",
      "truncated:False\n",
      "info:{'prob': 1.0}\n",
      "observation:36\n",
      "reward:-1\n",
      "terminated:False\n",
      "truncated:False\n",
      "info:{'prob': 1.0}\n",
      "observation:36\n",
      "reward:-1\n",
      "terminated:False\n",
      "truncated:False\n",
      "info:{'prob': 1.0}\n",
      "observation:36\n",
      "reward:-100\n",
      "terminated:False\n",
      "truncated:False\n",
      "info:{'prob': 1.0}\n",
      "observation:36\n",
      "reward:-100\n",
      "terminated:False\n",
      "truncated:False\n",
      "info:{'prob': 1.0}\n",
      "observation:36\n",
      "reward:-100\n",
      "terminated:False\n",
      "truncated:False\n",
      "info:{'prob': 1.0}\n",
      "observation:36\n",
      "reward:-1\n",
      "terminated:False\n",
      "truncated:False\n",
      "info:{'prob': 1.0}\n",
      "observation:24\n",
      "reward:-1\n",
      "terminated:False\n",
      "truncated:False\n",
      "info:{'prob': 1.0}\n",
      "observation:24\n",
      "reward:-1\n",
      "terminated:False\n",
      "truncated:False\n",
      "info:{'prob': 1.0}\n",
      "observation:36\n",
      "reward:-1\n",
      "terminated:False\n",
      "truncated:False\n",
      "info:{'prob': 1.0}\n",
      "observation:36\n",
      "reward:-1\n",
      "terminated:False\n",
      "truncated:False\n",
      "info:{'prob': 1.0}\n",
      "observation:36\n",
      "reward:-1\n",
      "terminated:False\n",
      "truncated:False\n",
      "info:{'prob': 1.0}\n"
     ]
    },
    {
     "ename": "KeyboardInterrupt",
     "evalue": "",
     "output_type": "error",
     "traceback": [
      "\u001B[0;31m---------------------------------------------------------------------------\u001B[0m",
      "\u001B[0;31mKeyboardInterrupt\u001B[0m                         Traceback (most recent call last)",
      "Cell \u001B[0;32mIn[10], line 3\u001B[0m\n\u001B[1;32m      1\u001B[0m \u001B[38;5;28;01mfor\u001B[39;00m _ \u001B[38;5;129;01min\u001B[39;00m \u001B[38;5;28mrange\u001B[39m(\u001B[38;5;241m100\u001B[39m):\n\u001B[1;32m      2\u001B[0m     action \u001B[38;5;241m=\u001B[39m env\u001B[38;5;241m.\u001B[39maction_space\u001B[38;5;241m.\u001B[39msample()\n\u001B[0;32m----> 3\u001B[0m     observation, reward, terminated, truncated, info \u001B[38;5;241m=\u001B[39m \u001B[43menv\u001B[49m\u001B[38;5;241;43m.\u001B[39;49m\u001B[43mstep\u001B[49m\u001B[43m(\u001B[49m\u001B[43maction\u001B[49m\u001B[43m)\u001B[49m\n\u001B[1;32m      6\u001B[0m     \u001B[38;5;28mprint\u001B[39m(\u001B[38;5;124mf\u001B[39m\u001B[38;5;124m'\u001B[39m\u001B[38;5;124mobservation:\u001B[39m\u001B[38;5;132;01m{\u001B[39;00mobservation\u001B[38;5;132;01m}\u001B[39;00m\u001B[38;5;130;01m\\n\u001B[39;00m\u001B[38;5;124mreward:\u001B[39m\u001B[38;5;132;01m{\u001B[39;00mreward\u001B[38;5;132;01m}\u001B[39;00m\u001B[38;5;130;01m\\n\u001B[39;00m\u001B[38;5;124mterminated:\u001B[39m\u001B[38;5;132;01m{\u001B[39;00mterminated\u001B[38;5;132;01m}\u001B[39;00m\u001B[38;5;130;01m\\n\u001B[39;00m\u001B[38;5;124mtruncated:\u001B[39m\u001B[38;5;132;01m{\u001B[39;00mtruncated\u001B[38;5;132;01m}\u001B[39;00m\u001B[38;5;130;01m\\n\u001B[39;00m\u001B[38;5;124minfo:\u001B[39m\u001B[38;5;132;01m{\u001B[39;00minfo\u001B[38;5;132;01m}\u001B[39;00m\u001B[38;5;124m'\u001B[39m)\n\u001B[1;32m      7\u001B[0m     \u001B[38;5;28;01mif\u001B[39;00m terminated \u001B[38;5;129;01mor\u001B[39;00m truncated:\n",
      "File \u001B[0;32m~/anaconda3/envs/gym-env/lib/python3.9/site-packages/gymnasium/wrappers/order_enforcing.py:56\u001B[0m, in \u001B[0;36mOrderEnforcing.step\u001B[0;34m(self, action)\u001B[0m\n\u001B[1;32m     54\u001B[0m \u001B[38;5;28;01mif\u001B[39;00m \u001B[38;5;129;01mnot\u001B[39;00m \u001B[38;5;28mself\u001B[39m\u001B[38;5;241m.\u001B[39m_has_reset:\n\u001B[1;32m     55\u001B[0m     \u001B[38;5;28;01mraise\u001B[39;00m ResetNeeded(\u001B[38;5;124m\"\u001B[39m\u001B[38;5;124mCannot call env.step() before calling env.reset()\u001B[39m\u001B[38;5;124m\"\u001B[39m)\n\u001B[0;32m---> 56\u001B[0m \u001B[38;5;28;01mreturn\u001B[39;00m \u001B[38;5;28;43mself\u001B[39;49m\u001B[38;5;241;43m.\u001B[39;49m\u001B[43menv\u001B[49m\u001B[38;5;241;43m.\u001B[39;49m\u001B[43mstep\u001B[49m\u001B[43m(\u001B[49m\u001B[43maction\u001B[49m\u001B[43m)\u001B[49m\n",
      "File \u001B[0;32m~/anaconda3/envs/gym-env/lib/python3.9/site-packages/gymnasium/wrappers/env_checker.py:49\u001B[0m, in \u001B[0;36mPassiveEnvChecker.step\u001B[0;34m(self, action)\u001B[0m\n\u001B[1;32m     47\u001B[0m     \u001B[38;5;28;01mreturn\u001B[39;00m env_step_passive_checker(\u001B[38;5;28mself\u001B[39m\u001B[38;5;241m.\u001B[39menv, action)\n\u001B[1;32m     48\u001B[0m \u001B[38;5;28;01melse\u001B[39;00m:\n\u001B[0;32m---> 49\u001B[0m     \u001B[38;5;28;01mreturn\u001B[39;00m \u001B[38;5;28;43mself\u001B[39;49m\u001B[38;5;241;43m.\u001B[39;49m\u001B[43menv\u001B[49m\u001B[38;5;241;43m.\u001B[39;49m\u001B[43mstep\u001B[49m\u001B[43m(\u001B[49m\u001B[43maction\u001B[49m\u001B[43m)\u001B[49m\n",
      "File \u001B[0;32m~/anaconda3/envs/gym-env/lib/python3.9/site-packages/gymnasium/envs/toy_text/cliffwalking.py:181\u001B[0m, in \u001B[0;36mCliffWalkingEnv.step\u001B[0;34m(self, a)\u001B[0m\n\u001B[1;32m    178\u001B[0m \u001B[38;5;28mself\u001B[39m\u001B[38;5;241m.\u001B[39mlastaction \u001B[38;5;241m=\u001B[39m a\n\u001B[1;32m    180\u001B[0m \u001B[38;5;28;01mif\u001B[39;00m \u001B[38;5;28mself\u001B[39m\u001B[38;5;241m.\u001B[39mrender_mode \u001B[38;5;241m==\u001B[39m \u001B[38;5;124m\"\u001B[39m\u001B[38;5;124mhuman\u001B[39m\u001B[38;5;124m\"\u001B[39m:\n\u001B[0;32m--> 181\u001B[0m     \u001B[38;5;28;43mself\u001B[39;49m\u001B[38;5;241;43m.\u001B[39;49m\u001B[43mrender\u001B[49m\u001B[43m(\u001B[49m\u001B[43m)\u001B[49m\n\u001B[1;32m    182\u001B[0m \u001B[38;5;28;01mreturn\u001B[39;00m (\u001B[38;5;28mint\u001B[39m(s), r, t, \u001B[38;5;28;01mFalse\u001B[39;00m, {\u001B[38;5;124m\"\u001B[39m\u001B[38;5;124mprob\u001B[39m\u001B[38;5;124m\"\u001B[39m: p})\n",
      "File \u001B[0;32m~/anaconda3/envs/gym-env/lib/python3.9/site-packages/gymnasium/envs/toy_text/cliffwalking.py:206\u001B[0m, in \u001B[0;36mCliffWalkingEnv.render\u001B[0;34m(self)\u001B[0m\n\u001B[1;32m    204\u001B[0m     \u001B[38;5;28;01mreturn\u001B[39;00m \u001B[38;5;28mself\u001B[39m\u001B[38;5;241m.\u001B[39m_render_text()\n\u001B[1;32m    205\u001B[0m \u001B[38;5;28;01melse\u001B[39;00m:\n\u001B[0;32m--> 206\u001B[0m     \u001B[38;5;28;01mreturn\u001B[39;00m \u001B[38;5;28;43mself\u001B[39;49m\u001B[38;5;241;43m.\u001B[39;49m\u001B[43m_render_gui\u001B[49m\u001B[43m(\u001B[49m\u001B[38;5;28;43mself\u001B[39;49m\u001B[38;5;241;43m.\u001B[39;49m\u001B[43mrender_mode\u001B[49m\u001B[43m)\u001B[49m\n",
      "File \u001B[0;32m~/anaconda3/envs/gym-env/lib/python3.9/site-packages/gymnasium/envs/toy_text/cliffwalking.py:293\u001B[0m, in \u001B[0;36mCliffWalkingEnv._render_gui\u001B[0;34m(self, mode)\u001B[0m\n\u001B[1;32m    291\u001B[0m     pygame\u001B[38;5;241m.\u001B[39mevent\u001B[38;5;241m.\u001B[39mpump()\n\u001B[1;32m    292\u001B[0m     pygame\u001B[38;5;241m.\u001B[39mdisplay\u001B[38;5;241m.\u001B[39mupdate()\n\u001B[0;32m--> 293\u001B[0m     \u001B[38;5;28;43mself\u001B[39;49m\u001B[38;5;241;43m.\u001B[39;49m\u001B[43mclock\u001B[49m\u001B[38;5;241;43m.\u001B[39;49m\u001B[43mtick\u001B[49m\u001B[43m(\u001B[49m\u001B[38;5;28;43mself\u001B[39;49m\u001B[38;5;241;43m.\u001B[39;49m\u001B[43mmetadata\u001B[49m\u001B[43m[\u001B[49m\u001B[38;5;124;43m\"\u001B[39;49m\u001B[38;5;124;43mrender_fps\u001B[39;49m\u001B[38;5;124;43m\"\u001B[39;49m\u001B[43m]\u001B[49m\u001B[43m)\u001B[49m\n\u001B[1;32m    294\u001B[0m \u001B[38;5;28;01melse\u001B[39;00m:  \u001B[38;5;66;03m# rgb_array\u001B[39;00m\n\u001B[1;32m    295\u001B[0m     \u001B[38;5;28;01mreturn\u001B[39;00m np\u001B[38;5;241m.\u001B[39mtranspose(\n\u001B[1;32m    296\u001B[0m         np\u001B[38;5;241m.\u001B[39marray(pygame\u001B[38;5;241m.\u001B[39msurfarray\u001B[38;5;241m.\u001B[39mpixels3d(\u001B[38;5;28mself\u001B[39m\u001B[38;5;241m.\u001B[39mwindow_surface)), axes\u001B[38;5;241m=\u001B[39m(\u001B[38;5;241m1\u001B[39m, \u001B[38;5;241m0\u001B[39m, \u001B[38;5;241m2\u001B[39m)\n\u001B[1;32m    297\u001B[0m     )\n",
      "\u001B[0;31mKeyboardInterrupt\u001B[0m: "
     ]
    }
   ],
   "execution_count": 10
  },
  {
   "metadata": {},
   "cell_type": "code",
   "source": [
    "num_episodes = 10\n",
    "reward_per_episode = []\n",
    "\n",
    "\n",
    "for episode in range(num_episodes):\n",
    "    \n",
    "    total_reward = 0 \n",
    "    while True:\n",
    "        action = env.action_space.sample()\n",
    "        observation, reward, terminated, truncated, info = env.step(action)\n",
    "        \n",
    "        total_reward += reward\n",
    "\n",
    "    \n",
    "    print(f'observation:{observation}\\nreward:{reward}\\nterminated:{terminated}\\ntruncated:{truncated}\\ninfo:{info}')\n",
    "    if terminated or truncated:\n",
    "        break \n",
    "    reward_per_episode.append(total_reward)\n",
    "    \n",
    "    \n",
    "        \n",
    "env.close()\n",
    "        "
   ],
   "id": "569138d55db7f696",
   "outputs": [],
   "execution_count": null
  },
  {
   "metadata": {},
   "cell_type": "code",
   "source": [
    "plt.figure()\n",
    "\n",
    "plt.subplot(1,2,2)\n",
    "plt.plot(reward_per_episode)\n",
    "plt.xlabel('Episode')\n",
    "plt.ylabel('Reward')\n",
    "plt.title('Reward per Episode')"
   ],
   "id": "24991896ddcdedea",
   "outputs": [],
   "execution_count": null
  },
  {
   "metadata": {},
   "cell_type": "code",
   "outputs": [],
   "execution_count": null,
   "source": "",
   "id": "87009002de078e4b"
  },
  {
   "metadata": {},
   "cell_type": "code",
   "outputs": [],
   "execution_count": null,
   "source": "",
   "id": "c30d805b72f118e9"
  },
  {
   "metadata": {},
   "cell_type": "markdown",
   "source": "## Q-Learning",
   "id": "e1821f4f453aacdd"
  },
  {
   "metadata": {
    "ExecuteTime": {
     "end_time": "2024-06-11T11:22:11.278498Z",
     "start_time": "2024-06-11T11:22:11.268134Z"
    }
   },
   "cell_type": "code",
   "source": [
    "# Set Environment\n",
    "env = gym.make('CliffWalking-v0', render_mode = 'human')\n"
   ],
   "id": "bd66e86b3f1e68a3",
   "outputs": [],
   "execution_count": 13
  },
  {
   "metadata": {},
   "cell_type": "markdown",
   "source": [
    "### Set Q-learning values \n",
    "\n",
    "- alpha: 0.1 learning rate \n",
    "- gamma: 0.9 discounted factor\n",
    "- epsilon: 0.1 exploration rate\n",
    "- num_episodes: 1000"
   ],
   "id": "6c5b89e3319a4ccf"
  },
  {
   "metadata": {
    "ExecuteTime": {
     "end_time": "2024-06-11T11:22:16.715048Z",
     "start_time": "2024-06-11T11:22:16.709562Z"
    }
   },
   "cell_type": "code",
   "source": [
    "# q_learning params\n",
    "\n",
    "lr = 0.1\n",
    "discount = 0.9\n",
    "epsilon = 0.1\n",
    "num_episodes = 1000"
   ],
   "id": "e0c5ddc10e4d4f4c",
   "outputs": [],
   "execution_count": 14
  },
  {
   "metadata": {},
   "cell_type": "markdown",
   "source": [
    "### Initial Q_table\n",
    "Q = np.zeros((env.observation_space.n, env.action_space.n))"
   ],
   "id": "604bef868829f291"
  },
  {
   "metadata": {
    "ExecuteTime": {
     "end_time": "2024-06-11T11:22:26.627379Z",
     "start_time": "2024-06-11T11:22:26.623500Z"
    }
   },
   "cell_type": "code",
   "source": "Q = np.zeros((env.observation_space.n, env.action_space.n))",
   "id": "6355e839368dae41",
   "outputs": [],
   "execution_count": 15
  },
  {
   "metadata": {
    "ExecuteTime": {
     "end_time": "2024-06-11T11:23:00.434575Z",
     "start_time": "2024-06-11T11:23:00.429398Z"
    }
   },
   "cell_type": "code",
   "source": [
    "# Epsilon greedy policy \n",
    "\n",
    "def epsilon_greedy_policy(state, epsilon_value): \n",
    "    \n",
    "    if random.uniform(0,1) < epsilon_value:\n",
    "        return env.action_space.sample()\n",
    "    else: \n",
    "        return np.argmax(Q[state, :])\n",
    "    \n",
    "    "
   ],
   "id": "5c53eb25cc757986",
   "outputs": [],
   "execution_count": 16
  },
  {
   "metadata": {
    "ExecuteTime": {
     "end_time": "2024-06-11T11:35:15.820564Z",
     "start_time": "2024-06-11T11:25:13.173299Z"
    }
   },
   "cell_type": "code",
   "source": [
    "reward_per_episodes = []\n",
    "steps_per_episodes = []\n",
    "\n",
    "for episode in range(num_episodes):\n",
    "    \n",
    "    observation, info = env.reset()\n",
    "    done = False\n",
    "    total_reward = 0 \n",
    "    steps = 0\n",
    "    \n",
    "    while not done:\n",
    "        \n",
    "        action = epsilon_greedy_policy(observation, epsilon)\n",
    "        next_state, reward, terminated, truncated, info = env.step(action)\n",
    "        \n",
    "        # update Q-table\n",
    "        best_next_action = np.argmax(Q[next_state, :])\n",
    "        td_target = reward + discount * Q[next_state, best_next_action]\n",
    "        td_error = td_target - Q[observation, action]\n",
    "        Q[observation, action] += lr * td_error\n",
    "        \n",
    "        observation = next_state\n",
    "        total_reward += reward\n",
    "        steps += 1\n",
    "        \n",
    "        if terminated or truncated:\n",
    "            break\n",
    "    reward_per_episodes.append(total_reward)\n",
    "    steps_per_episodes.append(steps)\n",
    "    \n",
    "    epsilon = max(epsilon * 0.99, 0.01)\n",
    "    #  Print progress and Q-table every 1000 episodes\n",
    "    if (episode + 1) % 2 == 0:\n",
    "        print(f\"Episode {episode + 1}/{num_episodes}\")\n",
    "        print(\"Q-table:\")\n",
    "        print(Q)\n",
    "        \n",
    "env.close()"
   ],
   "id": "e318c0f536b6cf88",
   "outputs": [
    {
     "name": "stdout",
     "output_type": "stream",
     "text": [
      "Episode 2/1000\n",
      "Q-table:\n",
      "[[ -1.13615128  -1.15725994  -1.10353585  -1.13247637]\n",
      " [ -1.1123907   -1.10865745  -1.07119431  -1.10822147]\n",
      " [ -1.03224778  -0.95585693  -1.04187439  -1.03004775]\n",
      " [ -0.86482753  -0.86921566  -0.86117467  -0.84672922]\n",
      " [ -0.77255306  -0.7777613   -0.75970153  -0.74299181]\n",
      " [ -0.58519851  -0.62578098  -0.66738664  -0.63848437]\n",
      " [ -0.4900995   -0.5434849   -0.47565218  -0.53488751]\n",
      " [ -0.385219    -0.3691      -0.385219    -0.41713462]\n",
      " [ -0.2881      -0.29701     -0.199       -0.31376971]\n",
      " [ -0.29701     -0.2881      -0.29701     -0.20791   ]\n",
      " [ -0.199       -0.199       -0.199       -0.20791   ]\n",
      " [ -0.1         -0.1         -0.2881      -0.1       ]\n",
      " [ -1.13236383  -1.19247132  -1.17969314  -1.1283089 ]\n",
      " [ -1.09444011  -1.09377205  -1.08073959  -1.03475062]\n",
      " [ -1.03157686  -0.93743235  -1.02198885  -0.96031695]\n",
      " [ -0.87463597  -0.8545977   -0.8365193   -0.86514827]\n",
      " [ -0.76618692  -0.71103043  -0.75505111  -0.74742721]\n",
      " [ -0.59689021  -0.63574716  -0.55882979  -0.64473525]\n",
      " [ -0.50347082  -0.45753507  -0.46589051  -0.43196248]\n",
      " [ -0.2962      -0.377119    -0.36991     -0.32401223]\n",
      " [ -0.2071      -0.29701     -0.28        -0.20791   ]\n",
      " [ -0.2881      -0.2962      -0.199       -0.20791   ]\n",
      " [ -0.199       -0.199       -0.28        -0.199     ]\n",
      " [ -0.199       -0.2881      -0.28        -0.199     ]\n",
      " [ -1.35135855  -1.28961025  -1.34057369  -1.31254187]\n",
      " [ -1.09605528  -1.04998495 -10.03546359  -1.15184487]\n",
      " [ -0.95771153  -0.97847207 -10.05266787  -0.90133335]\n",
      " [ -0.88022845  -0.84528721 -19.18675978  -0.79475429]\n",
      " [ -0.70028935  -0.6948493  -10.06952978  -0.78087123]\n",
      " [ -0.59997203  -0.52525662 -10.08605613  -0.56214122]\n",
      " [ -0.39411207  -0.4501     -10.10225362  -0.44780646]\n",
      " [ -0.3051019   -0.3691     -10.11023108  -0.3399481 ]\n",
      " [ -0.199       -0.28       -10.12594748  -0.22029652]\n",
      " [ -0.199       -0.199      -10.0267309   -0.10995507]\n",
      " [ -0.199       -0.199      -10.009       -0.1       ]\n",
      " [ -0.2071      -0.199       -0.19        -0.1       ]\n",
      " [ -1.60307154 -41.24638405  -1.57056807  -1.57056807]\n",
      " [  0.           0.           0.           0.        ]\n",
      " [  0.           0.           0.           0.        ]\n",
      " [  0.           0.           0.           0.        ]\n",
      " [  0.           0.           0.           0.        ]\n",
      " [  0.           0.           0.           0.        ]\n",
      " [  0.           0.           0.           0.        ]\n",
      " [  0.           0.           0.           0.        ]\n",
      " [  0.           0.           0.           0.        ]\n",
      " [  0.           0.           0.           0.        ]\n",
      " [  0.           0.           0.           0.        ]\n",
      " [  0.           0.           0.           0.        ]]\n",
      "Episode 4/1000\n",
      "Q-table:\n",
      "[[ -1.82093062  -1.850096    -1.83636751  -1.81033726]\n",
      " [ -1.71616735  -1.71750855  -1.7644867   -1.74483047]\n",
      " [ -1.5570393   -1.55156851  -1.56874213  -1.61540714]\n",
      " [ -1.39941645  -1.460998    -1.39523738  -1.46242512]\n",
      " [ -1.31254187  -1.30566065  -1.2981913   -1.36405044]\n",
      " [ -1.13615128  -1.16349675  -1.11239386  -1.16312312]\n",
      " [ -0.95178575  -0.94669861  -1.0171674   -0.96233525]\n",
      " [ -0.76407973  -0.78922284  -0.84549313  -0.84541434]\n",
      " [ -0.67078761  -0.63942852  -0.67166133  -0.7288464 ]\n",
      " [ -0.58304853  -0.55425952  -0.4891744   -0.51891541]\n",
      " [ -0.48930562  -0.4806451   -0.48792781  -0.4179285 ]\n",
      " [ -0.3940399   -0.3940399   -0.4662109   -0.40998969]\n",
      " [ -1.91964939  -1.8494393   -1.87859512  -1.88002736]\n",
      " [ -1.75445862  -1.74956529  -1.72575399  -1.72153194]\n",
      " [ -1.53792963  -1.60395594  -1.54823035  -1.57202166]\n",
      " [ -1.40824121  -1.4457386   -1.45238355  -1.38367949]\n",
      " [ -1.30912265  -1.32013486  -1.27854669  -1.26821305]\n",
      " [ -1.14549405  -1.10633578  -1.09635104  -1.17290484]\n",
      " [ -0.8823466   -0.94064793  -0.90812512  -0.97088965]\n",
      " [ -0.78212662  -0.79180595  -0.81287051  -0.75318669]\n",
      " [ -0.70124535  -0.64705498  -0.6426455   -0.63593251]\n",
      " [ -0.48417958  -0.4793329   -0.56125322  -0.52629057]\n",
      " [ -0.40342213  -0.48655     -0.4596499   -0.40854667]\n",
      " [ -0.3940399   -0.385219    -0.4517175   -0.39411207]\n",
      " [ -2.07462645  -2.01029113  -2.0406115   -1.97837704]\n",
      " [ -1.75814832  -1.76125494 -27.4694897   -1.81753876]\n",
      " [ -1.56189539  -1.56146881 -10.05266787  -1.63405844]\n",
      " [ -1.4243231   -1.3547545  -19.18675978  -1.42586307]\n",
      " [ -1.26580468  -1.21593224 -19.24796392  -1.1921978 ]\n",
      " [ -1.07946232  -1.01011007 -19.2317617   -1.10593272]\n",
      " [ -0.78823954  -0.7846383  -27.53639432  -0.88370769]\n",
      " [ -0.70946431  -0.71708461 -19.26309173  -0.65592426]\n",
      " [ -0.60986527  -0.63566219 -19.31918766  -0.5390464 ]\n",
      " [ -0.49461007  -0.5527432  -10.0267309   -0.53342532]\n",
      " [ -0.40263481  -0.463141   -10.009       -0.4131712 ]\n",
      " [ -0.312319    -0.29701     -0.3439      -0.31638218]\n",
      " [ -2.3712516  -47.27104029  -2.37657286  -2.37657286]\n",
      " [  0.           0.           0.           0.        ]\n",
      " [  0.           0.           0.           0.        ]\n",
      " [  0.           0.           0.           0.        ]\n",
      " [  0.           0.           0.           0.        ]\n",
      " [  0.           0.           0.           0.        ]\n",
      " [  0.           0.           0.           0.        ]\n",
      " [  0.           0.           0.           0.        ]\n",
      " [  0.           0.           0.           0.        ]\n",
      " [  0.           0.           0.           0.        ]\n",
      " [  0.           0.           0.           0.        ]\n",
      " [  0.           0.           0.           0.        ]]\n",
      "Episode 6/1000\n",
      "Q-table:\n",
      "[[ -1.90272132  -1.850096    -1.92551395  -1.89223389]\n",
      " [ -1.79900567  -1.79173616  -1.84335589  -1.74483047]\n",
      " [ -1.6414689   -1.6932057   -1.65800792  -1.7084422 ]\n",
      " [ -1.57056807  -1.60274472  -1.56861263  -1.55631614]\n",
      " [ -1.39941645  -1.45205944  -1.46667154  -1.45926366]\n",
      " [ -1.31254187  -1.31538903  -1.28540489  -1.36231426]\n",
      " [ -1.13184521  -1.16240915  -1.27604689  -1.1675798 ]\n",
      " [ -1.0383958   -1.1125651   -1.10586074  -1.04342533]\n",
      " [ -0.94390351  -0.96176172  -1.02626167  -1.03141804]\n",
      " [ -0.86274141  -0.88821462  -0.85525689  -0.932863  ]\n",
      " [ -0.77178275  -0.74183282  -0.75418395  -0.8274972 ]\n",
      " [ -0.67220874  -0.67934652  -0.6445326   -0.71192088]\n",
      " [ -1.99061481  -1.99125645  -2.07615298  -2.04161481]\n",
      " [ -1.83346782  -1.8873955   -1.90063685  -1.9107559 ]\n",
      " [ -1.70678669  -1.74146441  -1.72294262  -1.67228037]\n",
      " [ -1.57771612  -1.58342269  -1.62293196  -1.57469342]\n",
      " [ -1.39633915  -1.46726985  -1.44540038  -1.46507192]\n",
      " [ -1.32366726  -1.32312932  -1.26913732  -1.2734354 ]\n",
      " [ -1.25053188  -1.24321282  -1.23981746  -1.17575371]\n",
      " [ -1.07239026  -1.1097791   -0.98790943  -1.16198113]\n",
      " [ -0.97618154  -0.97277118  -0.99047882  -0.94755203]\n",
      " [ -0.87323416  -0.82020613  -0.81810175  -0.84490329]\n",
      " [ -0.68779261  -0.74091994  -0.72187148  -0.72145636]\n",
      " [ -0.59689079  -0.57655314  -0.61698172  -0.6033065 ]\n",
      " [ -2.19181609  -2.23107497  -2.26607131  -2.21662726]\n",
      " [ -1.98864365  -1.94939156 -27.4694897   -1.92250127]\n",
      " [ -1.72952703  -1.75858833 -19.27494619  -1.73600702]\n",
      " [ -1.5922408   -1.63219778 -19.18675978  -1.63241376]\n",
      " [ -1.44680886  -1.42170411 -19.24796392  -1.50364116]\n",
      " [ -1.26496552  -1.22589137 -19.2317617   -1.31046976]\n",
      " [ -1.17512099  -1.09801879 -27.53639432  -1.09865803]\n",
      " [ -1.00238382  -0.95749284 -19.26309173  -0.96707095]\n",
      " [ -0.89902842  -0.89426952 -19.31918766  -0.85954641]\n",
      " [ -0.79208446  -0.80127356 -10.0267309   -0.73950792]\n",
      " [ -0.70564483  -0.62015302 -10.009       -0.63043419]\n",
      " [ -0.42174167  -0.4900995   -0.468559    -0.43029844]\n",
      " [ -2.57079362 -47.27104029  -2.60299627  -2.60299627]\n",
      " [  0.           0.           0.           0.        ]\n",
      " [  0.           0.           0.           0.        ]\n",
      " [  0.           0.           0.           0.        ]\n",
      " [  0.           0.           0.           0.        ]\n",
      " [  0.           0.           0.           0.        ]\n",
      " [  0.           0.           0.           0.        ]\n",
      " [  0.           0.           0.           0.        ]\n",
      " [  0.           0.           0.           0.        ]\n",
      " [  0.           0.           0.           0.        ]\n",
      " [  0.           0.           0.           0.        ]\n",
      " [  0.           0.           0.           0.        ]]\n",
      "Episode 8/1000\n",
      "Q-table:\n",
      "[[ -2.14321859  -2.12860015  -2.17986572  -2.13304265]\n",
      " [ -2.03780466  -2.06586687  -2.10239329  -2.10193608]\n",
      " [ -1.97082838  -2.04020741  -1.98251118  -1.98427953]\n",
      " [ -1.90272132  -1.92914615  -1.89703738  -1.93929461]\n",
      " [ -1.73831376  -1.73054638  -1.71801585  -1.841714  ]\n",
      " [ -1.48542229  -1.53042218  -1.5393088   -1.56121256]\n",
      " [ -1.39523828  -1.39097649  -1.3661445   -1.37203458]\n",
      " [ -1.21673173  -1.25999746  -1.27801588  -1.24749741]\n",
      " [ -1.03446447  -1.04255867  -1.11149184  -1.13559355]\n",
      " [ -0.95411399  -0.9688536   -0.94832227  -0.932863  ]\n",
      " [ -0.86406493  -0.90896895  -0.84369663  -0.8274972 ]\n",
      " [ -0.76548665  -0.77255306  -0.8130698   -0.80860535]\n",
      " [ -2.20169049  -2.26474645  -2.26547401  -2.19998668]\n",
      " [ -2.13793038  -2.14623328  -2.14559697  -2.09860664]\n",
      " [ -2.02494832  -2.01084604  -1.9704855   -1.9569503 ]\n",
      " [ -1.90738068  -1.85344847  -1.87008104  -1.87233925]\n",
      " [ -1.7301068   -1.6775781   -1.69415153  -1.76203733]\n",
      " [ -1.49320083  -1.5415976   -1.52146301  -1.57720553]\n",
      " [ -1.3353261   -1.38184413  -1.32153092  -1.38238778]\n",
      " [ -1.2497319   -1.18635059  -1.24883798  -1.25833089]\n",
      " [ -1.07139101  -1.04912322  -1.07788747  -1.05267694]\n",
      " [ -0.96355747  -0.90008685  -0.90757918  -0.9482693 ]\n",
      " [ -0.7857783   -0.82719883  -0.8054981   -0.82535202]\n",
      " [ -0.6977005   -0.76407973  -0.76608658  -0.70794428]\n",
      " [ -2.43257071  -2.44149378  -2.48669918  -2.44780122]\n",
      " [ -2.20965035  -2.18400371 -27.4694897   -2.23398425]\n",
      " [ -1.97791989  -1.96289355 -19.27494619  -2.04575103]\n",
      " [ -1.84216155  -1.83936624 -19.18675978  -1.82935625]\n",
      " [ -1.70923388  -1.63593107 -19.24796392  -1.69606287]\n",
      " [ -1.53012814  -1.45209107 -19.2317617   -1.51077381]\n",
      " [ -1.26342673  -1.32132947 -27.53639432  -1.30635982]\n",
      " [ -1.19337281  -1.19153489 -27.57105222  -1.17055629]\n",
      " [ -0.99440526  -1.12494441 -19.31918766  -1.06079721]\n",
      " [ -0.88669456  -0.95819543 -10.0267309   -0.95131919]\n",
      " [ -0.80176314  -0.77128707 -10.009       -0.73950539]\n",
      " [ -0.53145729  -0.58519851  -0.56953279  -0.54400767]\n",
      " [ -2.77817066 -52.77820592  -2.75019664  -2.75019664]\n",
      " [  0.           0.           0.           0.        ]\n",
      " [  0.           0.           0.           0.        ]\n",
      " [  0.           0.           0.           0.        ]\n",
      " [  0.           0.           0.           0.        ]\n",
      " [  0.           0.           0.           0.        ]\n",
      " [  0.           0.           0.           0.        ]\n",
      " [  0.           0.           0.           0.        ]\n",
      " [  0.           0.           0.           0.        ]\n",
      " [  0.           0.           0.           0.        ]\n",
      " [  0.           0.           0.           0.        ]\n",
      " [  0.           0.           0.           0.        ]]\n"
     ]
    },
    {
     "ename": "KeyboardInterrupt",
     "evalue": "",
     "output_type": "error",
     "traceback": [
      "\u001B[0;31m---------------------------------------------------------------------------\u001B[0m",
      "\u001B[0;31mKeyboardInterrupt\u001B[0m                         Traceback (most recent call last)",
      "Cell \u001B[0;32mIn[17], line 14\u001B[0m\n\u001B[1;32m     11\u001B[0m \u001B[38;5;28;01mwhile\u001B[39;00m \u001B[38;5;129;01mnot\u001B[39;00m done:\n\u001B[1;32m     13\u001B[0m     action \u001B[38;5;241m=\u001B[39m epsilon_greedy_policy(observation, epsilon)\n\u001B[0;32m---> 14\u001B[0m     next_state, reward, terminated, truncated, info \u001B[38;5;241m=\u001B[39m \u001B[43menv\u001B[49m\u001B[38;5;241;43m.\u001B[39;49m\u001B[43mstep\u001B[49m\u001B[43m(\u001B[49m\u001B[43maction\u001B[49m\u001B[43m)\u001B[49m\n\u001B[1;32m     16\u001B[0m     \u001B[38;5;66;03m# update Q-table\u001B[39;00m\n\u001B[1;32m     17\u001B[0m     best_next_action \u001B[38;5;241m=\u001B[39m np\u001B[38;5;241m.\u001B[39margmax(Q[next_state, :])\n",
      "File \u001B[0;32m~/anaconda3/envs/gym-env/lib/python3.9/site-packages/gymnasium/wrappers/order_enforcing.py:56\u001B[0m, in \u001B[0;36mOrderEnforcing.step\u001B[0;34m(self, action)\u001B[0m\n\u001B[1;32m     54\u001B[0m \u001B[38;5;28;01mif\u001B[39;00m \u001B[38;5;129;01mnot\u001B[39;00m \u001B[38;5;28mself\u001B[39m\u001B[38;5;241m.\u001B[39m_has_reset:\n\u001B[1;32m     55\u001B[0m     \u001B[38;5;28;01mraise\u001B[39;00m ResetNeeded(\u001B[38;5;124m\"\u001B[39m\u001B[38;5;124mCannot call env.step() before calling env.reset()\u001B[39m\u001B[38;5;124m\"\u001B[39m)\n\u001B[0;32m---> 56\u001B[0m \u001B[38;5;28;01mreturn\u001B[39;00m \u001B[38;5;28;43mself\u001B[39;49m\u001B[38;5;241;43m.\u001B[39;49m\u001B[43menv\u001B[49m\u001B[38;5;241;43m.\u001B[39;49m\u001B[43mstep\u001B[49m\u001B[43m(\u001B[49m\u001B[43maction\u001B[49m\u001B[43m)\u001B[49m\n",
      "File \u001B[0;32m~/anaconda3/envs/gym-env/lib/python3.9/site-packages/gymnasium/wrappers/env_checker.py:49\u001B[0m, in \u001B[0;36mPassiveEnvChecker.step\u001B[0;34m(self, action)\u001B[0m\n\u001B[1;32m     47\u001B[0m     \u001B[38;5;28;01mreturn\u001B[39;00m env_step_passive_checker(\u001B[38;5;28mself\u001B[39m\u001B[38;5;241m.\u001B[39menv, action)\n\u001B[1;32m     48\u001B[0m \u001B[38;5;28;01melse\u001B[39;00m:\n\u001B[0;32m---> 49\u001B[0m     \u001B[38;5;28;01mreturn\u001B[39;00m \u001B[38;5;28;43mself\u001B[39;49m\u001B[38;5;241;43m.\u001B[39;49m\u001B[43menv\u001B[49m\u001B[38;5;241;43m.\u001B[39;49m\u001B[43mstep\u001B[49m\u001B[43m(\u001B[49m\u001B[43maction\u001B[49m\u001B[43m)\u001B[49m\n",
      "File \u001B[0;32m~/anaconda3/envs/gym-env/lib/python3.9/site-packages/gymnasium/envs/toy_text/cliffwalking.py:181\u001B[0m, in \u001B[0;36mCliffWalkingEnv.step\u001B[0;34m(self, a)\u001B[0m\n\u001B[1;32m    178\u001B[0m \u001B[38;5;28mself\u001B[39m\u001B[38;5;241m.\u001B[39mlastaction \u001B[38;5;241m=\u001B[39m a\n\u001B[1;32m    180\u001B[0m \u001B[38;5;28;01mif\u001B[39;00m \u001B[38;5;28mself\u001B[39m\u001B[38;5;241m.\u001B[39mrender_mode \u001B[38;5;241m==\u001B[39m \u001B[38;5;124m\"\u001B[39m\u001B[38;5;124mhuman\u001B[39m\u001B[38;5;124m\"\u001B[39m:\n\u001B[0;32m--> 181\u001B[0m     \u001B[38;5;28;43mself\u001B[39;49m\u001B[38;5;241;43m.\u001B[39;49m\u001B[43mrender\u001B[49m\u001B[43m(\u001B[49m\u001B[43m)\u001B[49m\n\u001B[1;32m    182\u001B[0m \u001B[38;5;28;01mreturn\u001B[39;00m (\u001B[38;5;28mint\u001B[39m(s), r, t, \u001B[38;5;28;01mFalse\u001B[39;00m, {\u001B[38;5;124m\"\u001B[39m\u001B[38;5;124mprob\u001B[39m\u001B[38;5;124m\"\u001B[39m: p})\n",
      "File \u001B[0;32m~/anaconda3/envs/gym-env/lib/python3.9/site-packages/gymnasium/envs/toy_text/cliffwalking.py:206\u001B[0m, in \u001B[0;36mCliffWalkingEnv.render\u001B[0;34m(self)\u001B[0m\n\u001B[1;32m    204\u001B[0m     \u001B[38;5;28;01mreturn\u001B[39;00m \u001B[38;5;28mself\u001B[39m\u001B[38;5;241m.\u001B[39m_render_text()\n\u001B[1;32m    205\u001B[0m \u001B[38;5;28;01melse\u001B[39;00m:\n\u001B[0;32m--> 206\u001B[0m     \u001B[38;5;28;01mreturn\u001B[39;00m \u001B[38;5;28;43mself\u001B[39;49m\u001B[38;5;241;43m.\u001B[39;49m\u001B[43m_render_gui\u001B[49m\u001B[43m(\u001B[49m\u001B[38;5;28;43mself\u001B[39;49m\u001B[38;5;241;43m.\u001B[39;49m\u001B[43mrender_mode\u001B[49m\u001B[43m)\u001B[49m\n",
      "File \u001B[0;32m~/anaconda3/envs/gym-env/lib/python3.9/site-packages/gymnasium/envs/toy_text/cliffwalking.py:293\u001B[0m, in \u001B[0;36mCliffWalkingEnv._render_gui\u001B[0;34m(self, mode)\u001B[0m\n\u001B[1;32m    291\u001B[0m     pygame\u001B[38;5;241m.\u001B[39mevent\u001B[38;5;241m.\u001B[39mpump()\n\u001B[1;32m    292\u001B[0m     pygame\u001B[38;5;241m.\u001B[39mdisplay\u001B[38;5;241m.\u001B[39mupdate()\n\u001B[0;32m--> 293\u001B[0m     \u001B[38;5;28;43mself\u001B[39;49m\u001B[38;5;241;43m.\u001B[39;49m\u001B[43mclock\u001B[49m\u001B[38;5;241;43m.\u001B[39;49m\u001B[43mtick\u001B[49m\u001B[43m(\u001B[49m\u001B[38;5;28;43mself\u001B[39;49m\u001B[38;5;241;43m.\u001B[39;49m\u001B[43mmetadata\u001B[49m\u001B[43m[\u001B[49m\u001B[38;5;124;43m\"\u001B[39;49m\u001B[38;5;124;43mrender_fps\u001B[39;49m\u001B[38;5;124;43m\"\u001B[39;49m\u001B[43m]\u001B[49m\u001B[43m)\u001B[49m\n\u001B[1;32m    294\u001B[0m \u001B[38;5;28;01melse\u001B[39;00m:  \u001B[38;5;66;03m# rgb_array\u001B[39;00m\n\u001B[1;32m    295\u001B[0m     \u001B[38;5;28;01mreturn\u001B[39;00m np\u001B[38;5;241m.\u001B[39mtranspose(\n\u001B[1;32m    296\u001B[0m         np\u001B[38;5;241m.\u001B[39marray(pygame\u001B[38;5;241m.\u001B[39msurfarray\u001B[38;5;241m.\u001B[39mpixels3d(\u001B[38;5;28mself\u001B[39m\u001B[38;5;241m.\u001B[39mwindow_surface)), axes\u001B[38;5;241m=\u001B[39m(\u001B[38;5;241m1\u001B[39m, \u001B[38;5;241m0\u001B[39m, \u001B[38;5;241m2\u001B[39m)\n\u001B[1;32m    297\u001B[0m     )\n",
      "\u001B[0;31mKeyboardInterrupt\u001B[0m: "
     ]
    }
   ],
   "execution_count": 17
  },
  {
   "metadata": {
    "ExecuteTime": {
     "end_time": "2024-06-11T08:03:07.059709Z",
     "start_time": "2024-06-11T08:03:06.566496Z"
    }
   },
   "cell_type": "code",
   "source": [
    "# Plotting the results\n",
    "plt.figure(figsize=(12, 5))\n",
    "\n",
    "# Plot rewards per episode\n",
    "plt.subplot(1, 2, 1)\n",
    "plt.plot(reward_per_episodes)\n",
    "plt.xlabel('Episode')\n",
    "plt.ylabel('Total Reward')\n",
    "plt.title('Total Rewards per Episode')\n",
    "\n",
    "# Plot steps per episode\n",
    "plt.subplot(1, 2, 2)\n",
    "plt.plot(steps_per_episodes)\n",
    "plt.xlabel('Episode')\n",
    "plt.ylabel('Steps')\n",
    "plt.title('Steps per Episode')\n",
    "\n",
    "plt.tight_layout()\n",
    "plt.show()"
   ],
   "id": "5577bfd4e4ed7927",
   "outputs": [
    {
     "data": {
      "text/plain": [
       "<Figure size 1200x500 with 2 Axes>"
      ],
      "image/png": "[encoded data removed]"
     },
     "metadata": {},
     "output_type": "display_data"
    }
   ],
   "execution_count": 26
  },
  {
   "metadata": {
    "ExecuteTime": {
     "end_time": "2024-06-11T08:03:32.347847Z",
     "start_time": "2024-06-11T08:03:32.341336Z"
    }
   },
   "cell_type": "code",
   "source": "reward_per_episodes\n",
   "id": "c6a5368a7b8c0543",
   "outputs": [
    {
     "data": {
      "text/plain": [
       "[]"
      ]
     },
     "execution_count": 27,
     "metadata": {},
     "output_type": "execute_result"
    }
   ],
   "execution_count": 27
  },
  {
   "metadata": {},
   "cell_type": "code",
   "source": [
    "# Test the learned policy\n",
    "state, info = env.reset()\n",
    "done = False\n",
    "total_reward = 0\n",
    "\n",
    "while not done:\n",
    "    env.render()\n",
    "    \n",
    "    # Choose the best action from the Q-table\n",
    "    action = np.argmax(Q[state])\n",
    "    state, reward, terminated, truncated, info = env.step(action)\n",
    "    total_reward += reward\n",
    "    \n",
    "    if terminated or truncated:\n",
    "        break\n",
    "\n",
    "print(f\"Total Reward: {total_reward}\")\n",
    "env.close()"
   ],
   "id": "8f6b88e5ccf15f41",
   "outputs": [],
   "execution_count": null
  },
  {
   "metadata": {},
   "cell_type": "code",
   "outputs": [],
   "execution_count": null,
   "source": "",
   "id": "a7f18188fc757dac"
  }
 ],
 "metadata": {
  "kernelspec": {
   "display_name": "Python 3",
   "language": "python",
   "name": "python3"
  },
  "language_info": {
   "codemirror_mode": {
    "name": "ipython",
    "version": 2
   },
   "file_extension": ".py",
   "mimetype": "text/x-python",
   "name": "python",
   "nbconvert_exporter": "python",
   "pygments_lexer": "ipython2",
   "version": "2.7.6"
  }
 },
 "nbformat": 4,
 "nbformat_minor": 5
}
